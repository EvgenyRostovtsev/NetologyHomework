{
 "cells": [
  {
   "cell_type": "markdown",
   "metadata": {},
   "source": [
    "**Задание 1**. Даны 2 строки: *long_phrase* и *short_phrase*. \n",
    "Напишите код, который проверяет действительно ли длинная фраза *long_phrase* длиннее короткой *short_phrase*. И выводит *True* или *False* в зависимости от результата сравнения."
   ]
  },
  {
   "cell_type": "code",
   "execution_count": 1,
   "metadata": {},
   "outputs": [],
   "source": [
    "long_phrase = 'Насколько проще было бы писать программы, если бы не заказчики'\n",
    "short_phrase = '640Кб должно хватить для любых задач. Билл Гейтс (по легенде)'"
   ]
  },
  {
   "cell_type": "code",
   "execution_count": 2,
   "metadata": {},
   "outputs": [
    {
     "data": {
      "text/plain": [
       "True"
      ]
     },
     "execution_count": 2,
     "metadata": {},
     "output_type": "execute_result"
    }
   ],
   "source": [
    "len(long_phrase)>len(short_phrase)"
   ]
  },
  {
   "cell_type": "markdown",
   "metadata": {},
   "source": [
    "**Задание 2**. Дано значение объема файла в байтах (*в мегабайте 2^20 байт*). Напишите перевод этого значения в мегабайты в формате: \"*Объем файла равен 213.68Mb*\"."
   ]
  },
  {
   "cell_type": "code",
   "execution_count": 4,
   "metadata": {},
   "outputs": [
    {
     "name": "stdout",
     "output_type": "stream",
     "text": [
      "Введите размер файла в байтах:\n",
      "121201\n",
      "Объем файла равен  0.1155862808227539 Mb\n"
     ]
    }
   ],
   "source": [
    "#Вариант с инпутом\n",
    "megabyte = 2**20\n",
    "print('Введите размер файла в байтах:')\n",
    "file = int(input())\n",
    "print('Объем файла равен ',file/megabyte,'Mb')\n"
   ]
  },
  {
   "cell_type": "code",
   "execution_count": 5,
   "metadata": {},
   "outputs": [
    {
     "name": "stdout",
     "output_type": "stream",
     "text": [
      "Объем файла равен  213.68 Mb\n"
     ]
    }
   ],
   "source": [
    "#Вариант с заданным числом\n",
    "megabyte = 2**20\n",
    "file=(2**20)*213.68\n",
    "print('Объем файла равен ',file/megabyte,'Mb')\n"
   ]
  },
  {
   "cell_type": "markdown",
   "metadata": {},
   "source": [
    "**Задание 3**. Разработать приложение для определения знака зодиака по дате рождения. Пример:\n",
    "\n",
    "Введите месяц: март\n",
    "\n",
    "Введите число: 6\n",
    "\n",
    "Вывод:\n",
    "Рыбы"
   ]
  },
  {
   "cell_type": "code",
   "execution_count": 6,
   "metadata": {},
   "outputs": [
    {
     "name": "stdout",
     "output_type": "stream",
     "text": [
      "Введите месяц:\n",
      "октябрь\n",
      "Введите число:\n",
      "5\n",
      "Весы\n"
     ]
    }
   ],
   "source": [
    "print('Введите месяц:')\n",
    "Month = input()\n",
    "print('Введите число:')\n",
    "Day = int(input())\n",
    "#здесь и далее lower() используем для написания всех букв строчными, чтобы пользователь не путал с какой буквы писать месяц(заглавной или строчной)\n",
    "if (Month.lower() == \"март\" and 21 <= Day <=31) or (Month.lower() == \"апрель\" and 1 <= Day <=20): \n",
    "    print ('Овен')\n",
    "elif (Month.lower() == \"апрель\" and 21 <= Day <=30) or (Month.lower() == \"май\" and 1 <= Day <=20):\n",
    "       print ('Телец')\n",
    "elif (Month.lower() == \"май\" and 21 <= Day <=31) or (Month.lower() == \"июнь\" and 1 <= Day <=20):\n",
    "       print ('Близнецы')\n",
    "elif (Month.lower() == \"июнь\" and 21 <= Day <=30) or (Month.lower() == \"июль\" and 1 <= Day <=22):\n",
    "       print ('Рак')\n",
    "elif (Month.lower() == \"июль\" and 23 <= Day <=31) or (Month.lower() == \"июль\" and 1 <= Day <=22):\n",
    "       print ('Лев')\n",
    "elif (Month.lower() == \"август\" and 23 <= Day <=31) or (Month.lower() == \"сентябрь\" and 1 <= Day <=22):\n",
    "       print ('Дева')\n",
    "elif (Month.lower() == \"сентябрь\" and 23 <= Day <=30) or (Month.lower() == \"октябрь\" and 1 <= Day <=22):\n",
    "       print ('Весы')\n",
    "elif (Month.lower() == \"октябрь\" and 23 <= Day <=31) or (Month.lower() == \"ноябрь\" and 1 <= Day <=22):\n",
    "       print ('Скорпион')\n",
    "elif (Month.lower() == \"ноябрь\" and 23 <= Day <=30) or (Month.lower() == \"декабрь\" and 1 <= Day <=21):\n",
    "       print ('Стрелец')\n",
    "elif (Month.lower() == \"декабрь\" and 22 <= Day <=31) or (Month.lower() == \"январь\" and 1 <= Day <=19):\n",
    "       print ('Козерог')\n",
    "elif (Month.lower() == \"январь\" and 20 <= Day <=31) or (Month.lower() == \"февраль\" and 1 <= Day <=19):\n",
    "       print ('Водолей')\n",
    "elif (Month.lower() == \"февраль\" and 20 <= Day <=29) or (Month.lower() == \"март\" and 1 <= Day <=20):\n",
    "       print ('Рыбы')\n",
    "else:\n",
    "    print ('Введены неверные данные')"
   ]
  },
  {
   "cell_type": "markdown",
   "metadata": {},
   "source": [
    "**Задание 4**. Нужно разработать приложение для финансового планирования.\n",
    "Приложение учитывает сколько уходит на ипотеку, \"на жизнь\" и сколько нужно отложить на пенсию.\n",
    "Пользователь вводит:\n",
    "- заработанную плату в месяц.\n",
    "- сколько процентов от ЗП уходит на ипотеку.\n",
    "- сколько процентов от ЗП уходит \"на жизнь\".\n",
    "- сколько раз приходит премия в год.\n",
    "\n",
    "Остальная часть заработанной платы откладывается на пенсию.\n",
    "\n",
    "Также пользователю приходит премия в размере зарплаты, от которой половина уходит на отпуск, а вторая половина откладывается.\n",
    "\n",
    "Программа должна учитывать сколько премий было в год.\n",
    "\n",
    "Нужно вывести сколько денег тратит пользователь на ипотеку и сколько он накопит за год.\n",
    "\n",
    "Пример:\n",
    "\n",
    "Введите заработанную плату в месяц: 100000\n",
    "\n",
    "Введите сколько процентов уходит на ипотеку: 30\n",
    "\n",
    "Введите сколько процентов уходит на жизнь: 50\n",
    "\n",
    "Введите количество премий за год: 2\n",
    "\n",
    "Вывод:\n",
    "На ипотеку было потрачено: 360000 рублей\n",
    "Было накоплено: 340000 рублей"
   ]
  },
  {
   "cell_type": "code",
   "execution_count": 3,
   "metadata": {},
   "outputs": [
    {
     "name": "stdout",
     "output_type": "stream",
     "text": [
      "Введите заработанную плату в месяц:\n",
      "180000\n",
      "Введите сколько процентов уходит на ипотеку:\n",
      "10\n",
      "Введите сколько процентов уходит на жизнь:\n",
      "40\n",
      "Введите количество премий за год:\n",
      "5\n",
      "На ипотеку было потрачено: 187920 рублей. Было накоплено: 1331100 рублей\n"
     ]
    }
   ],
   "source": [
    "print('Введите заработанную плату в месяц:')\n",
    "Payroll = int(input())\n",
    "print('Введите сколько процентов уходит на ипотеку:')\n",
    "Mortgage = int(input())\n",
    "print('Введите сколько процентов уходит на жизнь:')\n",
    "Livecost = int(input())\n",
    "print('Введите количество премий за год:')\n",
    "Bonus = int(input())\n",
    "PIT_rate = 0.13 #в условии не было, но я добавил налог на доход физических лиц\n",
    "Year_income=int(Payroll*12)*(1-PIT_rate)\n",
    "Bonus_income=int(Payroll*Bonus)*(1-PIT_rate)\n",
    "Mortgage_year=int(Year_income/100*Mortgage)\n",
    "Livecost_year=int(Year_income/100*Livecost)\n",
    "Investment=int(Year_income-Mortgage_year-Livecost_year+Bonus_income/2)\n",
    "\n",
    "print('На ипотеку было потрачено:',Mortgage_year,'рублей. Было накоплено:',Investment,'рублей')"
   ]
  },
  {
   "cell_type": "code",
   "execution_count": null,
   "metadata": {},
   "outputs": [],
   "source": []
  }
 ],
 "metadata": {
  "kernelspec": {
   "display_name": "Python 3",
   "language": "python",
   "name": "python3"
  },
  "language_info": {
   "codemirror_mode": {
    "name": "ipython",
    "version": 3
   },
   "file_extension": ".py",
   "mimetype": "text/x-python",
   "name": "python",
   "nbconvert_exporter": "python",
   "pygments_lexer": "ipython3",
   "version": "3.7.6"
  }
 },
 "nbformat": 4,
 "nbformat_minor": 2
}
